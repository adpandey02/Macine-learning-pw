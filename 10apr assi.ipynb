{
 "cells": [
  {
   "cell_type": "code",
   "execution_count": null,
   "id": "189cf608-3332-4ca9-b47c-6172827d8dd8",
   "metadata": {},
   "outputs": [],
   "source": [
    "Q1.\n",
    "P(Smoker|Uses health plan) = P(Uses health plan|Smoker) x P(Smoker) / P(Uses health plan)\n",
    "We are given that P(Uses health plan) = 0.7 and P(Uses health plan|Smoker) = 0.4.\n",
    "We are also given that P(Smoker) is unknown, so we cannot calculate the exact value \n",
    "of P(Smoker|Uses health plan). However, we can make an assumption about P(Smoker), \n",
    "such as P(Smoker) = 0.2 (i.e., 20% of employees are smokers). \n",
    "Substituting these values into the equation, we get:\n",
    "\n",
    "P(Smoker|Uses health plan) = 0.4 x 0.2 / 0.7\n",
    "≈ 0.114\n",
    "Therefore, the probability that an employee is a smoker given that he/she uses the health insurance\n",
    "plan is approximately 0.114.\n",
    "\n",
    "Q2. \n",
    "The main difference between Bernoulli Naive Bayes and Multinomial Naive Bayes is in the way they\n",
    "represent the input data. Bernoulli Naive Bayes assumes that the input features are binary \n",
    "(i.e., either present or absent), while Multinomial Naive Bayes assumes that the input features\n",
    "are counts (i.e., the number of times a feature appears in a document). As a result, Bernoulli\n",
    "Naive Bayes is typically used for text classification tasks, while Multinomial Naive Bayes is \n",
    "used for document classification tasks. Another difference is in the way they calculate the\n",
    "conditional probabilities, but the overall Naive Bayes framework remains the same.\n",
    "\n",
    "Q3. \n",
    "In Bernoulli Naive Bayes, missing values are typically handled by treating them as non-occurring \n",
    "features. In other words, if a feature value is missing for a particular instance, \n",
    "it is assumed that the feature is not present in that instance. This is consistent with the\n",
    "Bernoulli assumption that the input features are binary.\n",
    "\n",
    "Q4. \n",
    "Yes, Gaussian Naive Bayes can be used for multi-class classification. In this case, \n",
    "the class conditional probabilities are assumed to follow a Gaussian distribution with\n",
    "different means and variances for each class. The decision rule is the same as in the binary case,\n",
    "but applied to each class separately"
   ]
  },
  {
   "cell_type": "markdown",
   "id": "7206c131-a9c8-4a2c-8eb8-f6a6c03a9601",
   "metadata": {},
   "source": [
    "## q5"
   ]
  },
  {
   "cell_type": "code",
   "execution_count": 7,
   "id": "90682ed9-4633-43e2-852d-8d139b1dd927",
   "metadata": {},
   "outputs": [
    {
     "name": "stderr",
     "output_type": "stream",
     "text": [
      "/opt/conda/lib/python3.10/site-packages/sklearn/datasets/_openml.py:932: FutureWarning: The default value of `parser` will change from `'liac-arff'` to `'auto'` in 1.4. You can set `parser='auto'` to silence this warning. Therefore, an `ImportError` will be raised from 1.4 if the dataset is dense and pandas is not installed. Note that the pandas parser may return different data types. See the Notes Section in fetch_openml's API doc for details.\n",
      "  warn(\n"
     ]
    }
   ],
   "source": [
    "import numpy as np\n",
    "from sklearn.naive_bayes import BernoulliNB, MultinomialNB, GaussianNB\n",
    "from sklearn.model_selection import cross_val_score\n",
    "from sklearn.datasets import fetch_openml\n",
    "from sklearn.metrics import accuracy_score, precision_score, recall_score, f1_score\n",
    "from sklearn.model_selection import train_test_split\n",
    "\n",
    "X, y = fetch_openml(name='spambase', return_X_y=True)"
   ]
  },
  {
   "cell_type": "code",
   "execution_count": 49,
   "id": "4ec8432e-f6f2-4b73-a4d1-808611758c0c",
   "metadata": {},
   "outputs": [],
   "source": [
    "X_train, X_validation, y_train, y_validation = train_test_split(X, y, test_size=0.3, random_state=42)"
   ]
  },
  {
   "cell_type": "code",
   "execution_count": 50,
   "id": "2dbcf74b-e757-48f3-81e4-77b65145fd93",
   "metadata": {},
   "outputs": [],
   "source": [
    "# Create binomial Naive Bayes classifier\n",
    "bnb = BernoulliNB()\n",
    "bnb.fit(X_train,y_train)\n",
    "bnb_pred = bnb.predict(X_train)\n",
    "\n",
    "# Create Multinomial Naive Bayes classifier\n",
    "mnb = MultinomialNB()\n",
    "mnb.fit(X_train,y_train)\n",
    "mnb_pred = mnb.predict(X_train)\n",
    "\n",
    "# Create Gaussian Naive Bayes classifier\n",
    "gnb = GaussianNB()\n",
    "gnb.fit(X_train, y_train)\n",
    "gnb_pred = gnb.predict(X_train)\n"
   ]
  },
  {
   "cell_type": "code",
   "execution_count": 51,
   "id": "e3a908f2-cf76-454c-ad89-4d0c3d94ed1a",
   "metadata": {},
   "outputs": [],
   "source": [
    "# validation scores\n",
    "bnb_scores = cross_val_score(bnb, X_validation, y_validation, cv=10)\n",
    "mnb_scores = cross_val_score(mnb, X_validation, y_validation, cv=10)\n",
    "gnb_scores = cross_val_score(gnb, X_validation, y_validation, cv=10)"
   ]
  },
  {
   "cell_type": "code",
   "execution_count": 54,
   "id": "c2f87df1-52d0-46a9-8308-207ce28b77f4",
   "metadata": {},
   "outputs": [],
   "source": [
    "bnb_acc = accuracy_score(y_train, bnb_pred)\n",
    "mnb_acc = accuracy_score(y_train, mnb_pred)\n",
    "gnb_acc = accuracy_score(y_train, gnb_pred)\n",
    "\n",
    "bnb_rec = recall_score(y_train, bnb_pred, pos_label='1')\n",
    "mnb_rec = recall_score(y_train, mnb_pred, pos_label='1')\n",
    "gnb_rec = recall_score(y_train, gnb_pred, pos_label='1')\n",
    "\n",
    "bnb_f1 = f1_score(y_train, bnb_pred, pos_label='1')\n",
    "mnb_f1 = f1_score(y_train, mnb_pred, pos_label='1')\n",
    "gnb_f1 = f1_score(y_train, gnb_pred, pos_label='1')"
   ]
  },
  {
   "cell_type": "code",
   "execution_count": 57,
   "id": "ccfa83d6-62a9-4787-ab33-c22318bd4677",
   "metadata": {},
   "outputs": [
    {
     "name": "stdout",
     "output_type": "stream",
     "text": [
      "Bernoulli Naive Bayes:\n",
      "Accuracy: 0.8888198757763975\n",
      "validation score: [0.8705036  0.83333333 0.91304348 0.88405797 0.89130435 0.9057971\n",
      " 0.89130435 0.92028986 0.82608696 0.89130435]\n",
      "Recall: 0.8163430420711975\n",
      "F1 score: 0.8493265993265994\n",
      "\n",
      "Multinomial Naive Bayes:\n",
      "Accuracy: 0.7928571428571428\n",
      "validation score: [0.78417266 0.78985507 0.76811594 0.83333333 0.82608696 0.78985507\n",
      " 0.86231884 0.77536232 0.80434783 0.74637681]\n",
      "Recall: 0.6998381877022654\n",
      "F1 score: 0.721735502711723\n",
      "\n",
      "Gaussian Naive Bayes:\n",
      "Accuracy: 0.8130434782608695\n",
      "validation score: [0.77697842 0.86956522 0.87681159 0.81884058 0.84057971 0.81884058\n",
      " 0.86231884 0.87681159 0.84057971 0.82608696]\n",
      "Recall: 0.9538834951456311\n",
      "F1 score: 0.7966216216216216\n"
     ]
    }
   ],
   "source": [
    "print(\"Bernoulli Naive Bayes:\")\n",
    "print(\"Accuracy:\", bnb_acc)\n",
    "print('validation score:',bnb_scores)\n",
    "print(\"Recall:\", bnb_rec)\n",
    "print(\"F1 score:\", bnb_f1)\n",
    "print()\n",
    "\n",
    "print(\"Multinomial Naive Bayes:\")\n",
    "print(\"Accuracy:\", mnb_acc)\n",
    "print('validation score:',mnb_scores)\n",
    "print(\"Recall:\", mnb_rec)\n",
    "print(\"F1 score:\", mnb_f1)\n",
    "print()\n",
    "\n",
    "print(\"Gaussian Naive Bayes:\")\n",
    "print(\"Accuracy:\", gnb_acc)\n",
    "print('validation score:',gnb_scores)\n",
    "print(\"Recall:\", gnb_rec)\n",
    "print(\"F1 score:\", gnb_f1)"
   ]
  },
  {
   "cell_type": "code",
   "execution_count": null,
   "id": "338215ff-89e5-42f4-90c7-cc533e76c650",
   "metadata": {},
   "outputs": [],
   "source": []
  }
 ],
 "metadata": {
  "kernelspec": {
   "display_name": "Python 3 (ipykernel)",
   "language": "python",
   "name": "python3"
  },
  "language_info": {
   "codemirror_mode": {
    "name": "ipython",
    "version": 3
   },
   "file_extension": ".py",
   "mimetype": "text/x-python",
   "name": "python",
   "nbconvert_exporter": "python",
   "pygments_lexer": "ipython3",
   "version": "3.10.8"
  }
 },
 "nbformat": 4,
 "nbformat_minor": 5
}
