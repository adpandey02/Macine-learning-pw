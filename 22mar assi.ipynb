{
 "cells": [
  {
   "cell_type": "code",
   "execution_count": 2,
   "id": "d951364e-d9ab-43b4-a520-97894f6664e8",
   "metadata": {},
   "outputs": [
    {
     "name": "stdout",
     "output_type": "stream",
     "text": [
      "                     Time spent studying  Exam score\n",
      "Time spent studying             1.000000    0.989743\n",
      "Exam score                      0.989743    1.000000\n"
     ]
    }
   ],
   "source": [
    "#Q1.\n",
    "import pandas as pd\n",
    "\n",
    "# create a DataFrame with the data\n",
    "data = {'Time spent studying': [4, 5, 6, 2, 3, 7],\n",
    "        'Exam score': [75, 80, 85, 60, 70, 90]}\n",
    "df = pd.DataFrame(data)\n",
    "\n",
    "# calculate the Pearson correlation coefficient using df.corr()\n",
    "r = df.corr(method='pearson')\n",
    "print(r)\n"
   ]
  },
  {
   "cell_type": "markdown",
   "id": "4b0b7de1-9aa0-4fd9-b4d9-e61847d0c26b",
   "metadata": {},
   "source": [
    "## 2"
   ]
  },
  {
   "cell_type": "code",
   "execution_count": 3,
   "id": "c6e45b7b-9420-4c6c-b454-8c69d6cf776a",
   "metadata": {},
   "outputs": [
    {
     "name": "stdout",
     "output_type": "stream",
     "text": [
      "                  Amount of sleep  Job satisfaction\n",
      "Amount of sleep          1.000000          0.898302\n",
      "Job satisfaction         0.898302          1.000000\n"
     ]
    }
   ],
   "source": [
    "#Q2.\n",
    "import pandas as pd\n",
    "\n",
    "# create a DataFrame with the data\n",
    "data = {'Amount of sleep': [7, 5, 8, 6, 6, 7, 5],\n",
    "        'Job satisfaction': [9, 5, 8, 7, 6, 8, 4]}\n",
    "df = pd.DataFrame(data)\n",
    "\n",
    "# calculate the Pearson correlation coefficient using df.corr()\n",
    "r = df.corr(method='spearman')\n",
    "print(r)\n"
   ]
  },
  {
   "cell_type": "markdown",
   "id": "2cbe5687-b28e-4241-b4fc-cbb846017004",
   "metadata": {},
   "source": [
    "## 3"
   ]
  },
  {
   "cell_type": "code",
   "execution_count": 16,
   "id": "f13dd99b-de24-4c8d-b4d2-c820987aef07",
   "metadata": {},
   "outputs": [
    {
     "name": "stdout",
     "output_type": "stream",
     "text": [
      "-0.8647308796080734\n",
      "-0.873600302399926\n",
      "they are approximatey similar\n"
     ]
    }
   ],
   "source": [
    "data={'hours_exercise': [3, 5, 2, 4, 6, 2, 3, 1, 4, 5, 3, 2, 1, 6, 4, 2, 3, 5, 1, 4, 6, 2, 3, 4, 5, 6, 1, 2, 3, 4, 5, 6, 1, 2, 3, 4, 5, 6, 1, 2, 3, 4, 5, 6, 1, 2, 3, 4, 5, 6],\n",
    " 'bmi' :[25, 28, 27, 26, 24, 30, 29, 32, 25, 23, 27, 30, 32, 22, 24, 28, 26, 23, 31, 25, 24, 29, 26, 25, 23, 22, 30, 29, 28, 27, 26, 25, 30, 29, 28, 27, 26, 25, 30, 29, 28, 27, 26, 25, 30, 29, 28, 27, 26, 25]}\n",
    "df=pd.DataFrame(data)\n",
    "spearman=df.corr(method='spearman')\n",
    "pearson=df.corr(method='pearson')\n",
    "print(pearson['bmi']['hours_exercise'])\n",
    "print(spearman['bmi']['hours_exercise'])\n",
    "print('they are approximatey similar')"
   ]
  },
  {
   "cell_type": "markdown",
   "id": "c8def25c-63f1-4094-9869-cd74bb044d64",
   "metadata": {},
   "source": [
    "## 4"
   ]
  },
  {
   "cell_type": "code",
   "execution_count": 26,
   "id": "1ce060bd-7366-4ec0-8ba3-a529d612ab89",
   "metadata": {},
   "outputs": [
    {
     "data": {
      "text/plain": [
       "0.043489508634505916"
      ]
     },
     "execution_count": 26,
     "metadata": {},
     "output_type": "execute_result"
    }
   ],
   "source": [
    "import numpy as np\n",
    "lvl_physical_activity = np.random.randint(low=0, high=10, size=50).reshape(50,1)\n",
    "hours_on_television = np.random.randint(low=0, high=10, size=50).reshape(50,1)\n",
    "data=np.concatenate((lvl_physical_activity,hours_on_television), axis=1)\n",
    "df=pd.DataFrame(data, columns=['lvl_physical_activity','hours_on_television'])\n",
    "df.corr(method='pearson')['lvl_physical_activity']['hours_on_television']"
   ]
  },
  {
   "cell_type": "markdown",
   "id": "9ae50634-f02a-456d-9949-fcea71c974b5",
   "metadata": {},
   "source": [
    "## 5"
   ]
  },
  {
   "cell_type": "code",
   "execution_count": 34,
   "id": "6562f957-0fb1-4dbf-8915-dd9dc09c8311",
   "metadata": {},
   "outputs": [
    {
     "name": "stdout",
     "output_type": "stream",
     "text": [
      "   Age  Brand\n",
      "0   25      0\n",
      "1   42      1\n",
      "2   37      3\n",
      "3   19      2\n",
      "4   31      4\n",
      "5   28      0\n",
      "----------\n",
      "corelation: 0.17243262367875134\n"
     ]
    }
   ],
   "source": [
    "import pandas as pd\n",
    "from sklearn.preprocessing import LabelEncoder\n",
    "# create a sample DataFrame with the data\n",
    "data = {'Age': [25, 42, 37, 19, 31, 28],\n",
    "        'Brand': ['Coke', 'Pepsi', 'mountain dew', 'coke', 'pepsi', 'Coke']}\n",
    "df = pd.DataFrame(data)\n",
    "lc=LabelEncoder()\n",
    "df['Brand'] = lc.fit_transform(df['Brand'])\n",
    "correlation = df.corr(method='pearson')['Age']['Brand']\n",
    "print(df)\n",
    "print('----------')\n",
    "print(f'corelation: {correlation}')"
   ]
  },
  {
   "cell_type": "code",
   "execution_count": 36,
   "id": "fa4c4cc9-ce5c-41ed-840a-c07097a5091c",
   "metadata": {},
   "outputs": [
    {
     "name": "stdout",
     "output_type": "stream",
     "text": [
      "0.9802315904562325\n"
     ]
    }
   ],
   "source": [
    "import pandas as pd\n",
    "\n",
    "data = {'Sales Calls': [20, 30, 15, 25, 18, 22, 35, 28, 32, 27, 24, 29, 19, 16, 21, 26, 23, 17, 33, 31, 34, 37, 40, 36, 38, 42, 45, 41, 39, 44],\n",
    "        'Sales Made': [2, 5, 1, 3, 2, 4, 6, 5, 7, 5, 4, 6, 2, 1, 3, 4, 3, 2, 7, 6, 7, 8, 9, 8, 9, 10, 12, 11, 10, 12]}\n",
    "df = pd.DataFrame(data)\n",
    "\n",
    "correlation = df['Sales Calls'].corr(df['Sales Made'], method='pearson')\n",
    "print(correlation)\n"
   ]
  },
  {
   "cell_type": "code",
   "execution_count": null,
   "id": "e4f3348d-afa7-4856-89ec-4b887ebf402c",
   "metadata": {},
   "outputs": [],
   "source": []
  }
 ],
 "metadata": {
  "kernelspec": {
   "display_name": "Python 3 (ipykernel)",
   "language": "python",
   "name": "python3"
  },
  "language_info": {
   "codemirror_mode": {
    "name": "ipython",
    "version": 3
   },
   "file_extension": ".py",
   "mimetype": "text/x-python",
   "name": "python",
   "nbconvert_exporter": "python",
   "pygments_lexer": "ipython3",
   "version": "3.10.8"
  }
 },
 "nbformat": 4,
 "nbformat_minor": 5
}
