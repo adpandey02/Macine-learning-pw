{
 "cells": [
  {
   "cell_type": "code",
   "execution_count": null,
   "id": "25990f81-fd48-453f-94fa-7b9014ff53fe",
   "metadata": {},
   "outputs": [],
   "source": [
    "Q1. Ordinal Encoding and Label Encoding both transform categorical variables into numerical values.\n",
    "The difference is that Ordinal Encoding assigns a numerical value based on the order or rank\n",
    "of the categories, while Label Encoding assigns a unique numerical value to each category. \n",
    "For example, in Ordinal Encoding, the categories \"low\", \"medium\", and \"high\" might be\n",
    "assigned values of 1, 2, and 3 based on their order, while in Label Encoding, \n",
    "they would be assigned values of 1, 2, and 3 without any inherent order. \n",
    "One might choose Ordinal Encoding when there is a natural order or hierarchy among the \n",
    "categories, such as in a rating system, while Label Encoding might be chosen when there\n",
    "is no natural order, such as in a set of color categories.\n",
    "\n",
    "Q2. Target Guided Ordinal Encoding is a method of encoding categorical variables that \n",
    "takes into account the relationship between the categorical variable and the target variable \n",
    "in a machine learning problem. The encoding assigns a numerical value to each category based \n",
    "on its mean target value. For example, in a binary classification problem where the target\n",
    "variable is \"Survived\" and the categorical variable is \"Gender\", the encoding might assign\n",
    "a value of 1 to the category \"Female\" if the mean survival rate for females is higher than \n",
    "the mean survival rate for males. Target Guided Ordinal Encoding can be useful in cases where \n",
    "the relationship between the categorical variable and the target variable is important for \n",
    "predicting the target variable.\n",
    "\n",
    "Q3. Covariance is a measure of the joint variability of two random variables. \n",
    "It measures how much two variables vary together, or in other words, how much they\n",
    "co-vary. Covariance is important in statistical analysis because it helps to determine\n",
    "the strength and direction of the relationship between two variables. \n",
    "A positive covariance indicates that the variables tend to increase or decrease together,\n",
    "while a negative covariance indicates that they tend to move in opposite directions. \n",
    "Covariance is calculated by taking the product of the deviations of each variable from \n",
    "its mean and summing those products over all observations\n"
   ]
  },
  {
   "cell_type": "code",
   "execution_count": 18,
   "id": "3e7bb1a2-ab35-43be-866f-885881aac56b",
   "metadata": {},
   "outputs": [
    {
     "name": "stdout",
     "output_type": "stream",
     "text": [
      "   Color  Size  Material\n",
      "0      2   0.0       0.0\n",
      "1      1   2.0       2.0\n",
      "2      0   1.0       1.0\n",
      "3      2   0.0       0.0\n",
      "4      1   1.0       2.0\n"
     ]
    }
   ],
   "source": [
    "#Q4.\n",
    "from sklearn.preprocessing import LabelEncoder, OrdinalEncoder\n",
    "import pandas as pd\n",
    "\n",
    "# create an example dataframe with three categorical columns\n",
    "df = pd.DataFrame({\n",
    "    'Color': ['red', 'green', 'blue', 'red', 'green'],\n",
    "    'Size': ['small', 'large', 'medium', 'small', 'medium'],\n",
    "    'Material': ['wood', 'plastic', 'metal', 'wood', 'plastic']\n",
    "})\n",
    "\n",
    "# create a LabelEncoder object and fit_transform the 'Color' column\n",
    "le = LabelEncoder()\n",
    "df['Color'] = le.fit_transform(df['Color'])\n",
    "\n",
    "# create an OrdinalEncoder object and fit_transform the 'Size' and 'Material' columns\n",
    "oe = OrdinalEncoder(categories=[['small', 'medium', 'large'], ['wood', 'metal', 'plastic']])\n",
    "df[['Size', 'Material']] = oe.fit_transform(df[['Size', 'Material']])\n",
    "\n",
    "print(df)\n"
   ]
  },
  {
   "cell_type": "code",
   "execution_count": 4,
   "id": "02dd0eb3-6154-413a-ace0-ff73a2d2ffb3",
   "metadata": {},
   "outputs": [
    {
     "name": "stdout",
     "output_type": "stream",
     "text": [
      "                       Age       Income  Education Level\n",
      "Age                  62.50     162500.0             8.75\n",
      "Income           162500.00  425000000.0         22500.00\n",
      "Education Level       8.75      22500.0             1.30\n"
     ]
    }
   ],
   "source": [
    "#Q5. \n",
    "data = {'Age': [25, 30, 35, 40, 45],\n",
    "        'Income': [50000, 60000, 75000, 90000, 100000],\n",
    "        'Education Level': [1, 2, 3, 3, 4]}\n",
    "\n",
    "df = pd.DataFrame(data)\n",
    "\n",
    "covariance_matrix = df.cov()\n",
    "\n",
    "print(covariance_matrix)\n"
   ]
  },
  {
   "cell_type": "code",
   "execution_count": null,
   "id": "78838647-e186-48a5-9f84-01428feed931",
   "metadata": {},
   "outputs": [],
   "source": [
    "Q6. For \"Gender\", since there are only two categories, we can use binary encoding or label encoding. \n",
    "For \"Education Level\", we can use ordinal encoding since there is a clear order between the categories\n",
    "(i.e., High School < Bachelor's < Master's < PhD). For \"Employment Status\", \n",
    "we can use one-hot encoding since there is no inherent order between the categories and we want \n",
    "to avoid imposing any ordinal relationship between them."
   ]
  },
  {
   "cell_type": "code",
   "execution_count": 23,
   "id": "2c4bf401-58d9-468d-bddc-7538d800710e",
   "metadata": {},
   "outputs": [
    {
     "name": "stdout",
     "output_type": "stream",
     "text": [
      "[[ 7.3  15.05  0.95 -0.4  -0.55 -0.4   0.45  0.85 -0.9 ]\n",
      " [15.05 31.3   1.95 -0.65 -1.3  -0.65  0.7   1.85 -1.9 ]\n",
      " [ 0.95  1.95  0.3  -0.1  -0.2  -0.1   0.05  0.15 -0.1 ]\n",
      " [-0.4  -0.65 -0.1   0.2  -0.1   0.2  -0.1  -0.05 -0.05]\n",
      " [-0.55 -1.3  -0.2  -0.1   0.3  -0.1   0.05 -0.1   0.15]\n",
      " [-0.4  -0.65 -0.1   0.2  -0.1   0.2  -0.1  -0.05 -0.05]\n",
      " [ 0.45  0.7   0.05 -0.1   0.05 -0.1   0.3  -0.1  -0.1 ]\n",
      " [ 0.85  1.85  0.15 -0.05 -0.1  -0.05 -0.1   0.2  -0.05]\n",
      " [-0.9  -1.9  -0.1  -0.05  0.15 -0.05 -0.1  -0.05  0.2 ]]\n"
     ]
    }
   ],
   "source": [
    "#Q7.\n",
    "import numpy as np\n",
    "\n",
    "# Example data with two continuous variables and two categorical variables\n",
    "temperature = np.array([25, 27, 22, 20, 24])\n",
    "humidity = np.array([60, 65, 55, 50, 58])\n",
    "weather_condition = np.array(['Sunny', 'Cloudy', 'Rainy', 'Sunny', 'Cloudy'])\n",
    "wind_direction = np.array(['North', 'South', 'East', 'West', 'North'])\n",
    "\n",
    "# Encode the categorical variables using one-hot encoding\n",
    "from sklearn.preprocessing import OneHotEncoder\n",
    "encoder = OneHotEncoder()\n",
    "weather_condition_encoded = encoder.fit_transform(weather_condition.reshape(-1, 1)).toarray()\n",
    "wind_direction_encoded = encoder.fit_transform(wind_direction.reshape(-1, 1)).toarray()\n",
    "\n",
    "# Concatenate the encoded variables with the continuous variables\n",
    "X = np.concatenate((temperature.reshape(-1, 1), humidity.reshape(-1, 1), \n",
    "                    weather_condition_encoded, wind_direction_encoded), axis=1)\n",
    "\n",
    "# Calculate the covariance matrix\n",
    "covariance_matrix = np.cov(X, rowvar=False)\n",
    "\n",
    "print(covariance_matrix)\n",
    "\n"
   ]
  },
  {
   "cell_type": "code",
   "execution_count": null,
   "id": "0ff13f51-a7e6-410e-bb9a-510fe8145573",
   "metadata": {},
   "outputs": [],
   "source": []
  }
 ],
 "metadata": {
  "kernelspec": {
   "display_name": "Python 3 (ipykernel)",
   "language": "python",
   "name": "python3"
  },
  "language_info": {
   "codemirror_mode": {
    "name": "ipython",
    "version": 3
   },
   "file_extension": ".py",
   "mimetype": "text/x-python",
   "name": "python",
   "nbconvert_exporter": "python",
   "pygments_lexer": "ipython3",
   "version": "3.10.8"
  }
 },
 "nbformat": 4,
 "nbformat_minor": 5
}
