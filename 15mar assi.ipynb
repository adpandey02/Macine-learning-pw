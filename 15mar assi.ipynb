{
 "cells": [
  {
   "cell_type": "code",
   "execution_count": null,
   "id": "ccecb44c-7473-40c7-b311-e29934509bd0",
   "metadata": {},
   "outputs": [],
   "source": [
    "Q1- Artificial Intelligence (AI) refers to the development of computer systems that can perform tasks that typically require human intelligence.\n",
    "Machine learning (ML) is a subset of AI that involves the development of algorithms that can automatically learn and improve from experience.\n",
    "Deep learning (DL) is a subset of ML that uses neural networks to learn representations of data. Data science (DS) is \n",
    "a field that involves the extraction of knowledge and insights from data using various methods, including ML and statistical analysis.\n",
    "\n",
    "Q2- Supervised learning is a type of ML in which the algorithm is trained on labeled data, meaning that the desired output is \n",
    "known for each input. Examples of supervised learning include image classification, speech recognition, and spam detection.\n",
    "\n",
    "Q3- Unsupervised learning is a type of ML in which the algorithm is trained on unlabeled data, meaning that the desired output is \n",
    "not known. Examples of unsupervised learning include clustering, anomaly detection, and dimensionality reduction.\n",
    "\n",
    "Q4- AI is a broad field that includes various subfields, including ML, DL, and DS. ML involves the development of algorithms \n",
    "that can automatically learn from data. DL is a subset of ML that uses neural networks to learn representations of data. \n",
    "DS involves the extraction of knowledge and insights from data using various methods, including ML and statistical analysis.\n",
    "\n",
    "Q5- The main difference between supervised, unsupervised, and semi-supervised learning is the type of data used for training. \n",
    "Supervised learning involves labeled data, unsupervised learning involves unlabeled data, and semi-supervised learning involves\n",
    "a combination of labeled and unlabeled data.\n",
    "\n",
    "Q6- Train, test, and validation split refers to the process of dividing a dataset into three parts for training, testing, \n",
    "and validation purposes. The training set is used to train the model, the test set is used to evaluate the performance of \n",
    "the model on new, unseen data, and the validation\n",
    "\n",
    "Q7- Unsupervised learning can be used in anomaly detection by training the algorithm on normal data and then identifying data \n",
    "points that deviate significantly from the learned patterns. This can be done using techniques such as clustering, density\n",
    "estimation, and dimensionality reduction. For example, if the algorithm is trained on a dataset of normal network traffic, \n",
    "it can be used to detect anomalous traffic patterns that may indicate a cyber attack.\n",
    "\n",
    "Q8- Some commonly used supervised learning algorithms include:\n",
    "Linear regression\n",
    "Logistic regression\n",
    "Decision trees\n",
    "Random forests\n",
    "Support vector machines (SVM)\n",
    "Naive Bayes\n",
    "Neural networks\n",
    "Some commonly used unsupervised learning algorithms include:\n",
    "\n",
    "K-means clustering\n",
    "Hierarchical clustering\n",
    "Gaussian mixture models (GMM)\n",
    "Principal component analysis (PCA)\n",
    "t-SNE\n",
    "Autoencoders\n",
    "Generative adversarial networks (GAN)\n",
    "\n"
   ]
  }
 ],
 "metadata": {
  "kernelspec": {
   "display_name": "Python 3 (ipykernel)",
   "language": "python",
   "name": "python3"
  },
  "language_info": {
   "codemirror_mode": {
    "name": "ipython",
    "version": 3
   },
   "file_extension": ".py",
   "mimetype": "text/x-python",
   "name": "python",
   "nbconvert_exporter": "python",
   "pygments_lexer": "ipython3",
   "version": "3.10.8"
  }
 },
 "nbformat": 4,
 "nbformat_minor": 5
}
