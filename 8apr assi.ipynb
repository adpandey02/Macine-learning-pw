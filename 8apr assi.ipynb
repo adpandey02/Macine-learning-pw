{
 "cells": [
  {
   "cell_type": "code",
   "execution_count": null,
   "id": "459543ea-9ebf-4c83-97dd-1f16e1a3ee39",
   "metadata": {},
   "outputs": [],
   "source": [
    "'''\n",
    "Q1. When developing an SVM regression model to predict house prices based on multiple characteristics,\n",
    "the most appropriate regression metric to use would be Mean Squared Error (MSE). This is because MSE\n",
    "measures the average squared difference between the predicted and actual values of the target variable,\n",
    "which is a common regression metric used to evaluate the accuracy of regression models.\n",
    "\n",
    "Q2. If the goal is to predict the actual price of a house as accurately as possible, then Mean Squared\n",
    "Error (MSE) would be a more appropriate evaluation metric for the SVM regression model. \n",
    "This is because MSE measures the average squared difference between the predicted and actual values,\n",
    "which is a good measure of accuracy when the goal is to minimize the overall prediction error.\n",
    "\n",
    "Q3. When dealing with a dataset that contains a significant number of outliers, the most appropriate \n",
    "regression metric to use with an SVM model would be Mean Absolute Error (MAE). This is because MAE\n",
    "is less sensitive to outliers than other metrics, such as MSE or R-squared, and provides a more robust \n",
    "measure of prediction accuracy in the presence of outliers.\n",
    "\n",
    "Q4. When choosing between Mean Squared Error (MSE) and Root Mean Squared Error (RMSE) to evaluate \n",
    "the performance of an SVM regression model using a polynomial kernel, it is generally recommended \n",
    "to use RMSE. This is because RMSE is a more interpretable metric that is in the same units as the \n",
    "target variable, and is therefore easier to interpret and compare across models.\n",
    "\n",
    "Q5. If the goal is to measure how well an SVM regression model explains the variance in the target \n",
    "variable, the most appropriate evaluation metric would be R-squared (R2). This is because R2 measures\n",
    "the proportion of variance in the target variable that is explained by the model, and provides a good\n",
    "measure of the model's overall explanatory power.\n",
    "'''"
   ]
  }
 ],
 "metadata": {
  "kernelspec": {
   "display_name": "Python 3 (ipykernel)",
   "language": "python",
   "name": "python3"
  },
  "language_info": {
   "codemirror_mode": {
    "name": "ipython",
    "version": 3
   },
   "file_extension": ".py",
   "mimetype": "text/x-python",
   "name": "python",
   "nbconvert_exporter": "python",
   "pygments_lexer": "ipython3",
   "version": "3.10.8"
  }
 },
 "nbformat": 4,
 "nbformat_minor": 5
}
