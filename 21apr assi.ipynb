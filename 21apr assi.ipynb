{
 "cells": [
  {
   "cell_type": "code",
   "execution_count": null,
   "id": "c2f7f540-c615-482f-8a22-f35726aaf1ed",
   "metadata": {},
   "outputs": [],
   "source": [
    "A1. The main difference between the Euclidean distance metric and the Manhattan distance metric in\n",
    "KNN is the way they measure distance. The Euclidean distance is the straight-line distance between \n",
    "two points in a multidimensional space, while the Manhattan distance is the sum of the absolute\n",
    "differences between the coordinates of two points. This difference in distance metric can affect \n",
    "the performance of a KNN classifier or regressor, as it can impact which points are considered \n",
    "nearest neighbors. In general, the Euclidean distance tends to work well when the dimensions of \n",
    "the dataset are correlated, while the Manhattan distance can work well when the dimensions are independent.\n",
    "\n",
    "A2. The optimal value of k for a KNN classifier or regressor can be chosen using techniques such \n",
    "as cross-validation, grid search, or random search. Cross-validation involves splitting the data \n",
    "into training and validation sets, and testing different values of k on the validation set to find\n",
    "the value that maximizes performance. Grid search involves testing a range of values for k and \n",
    "other hyperparameters on a validation set to find the optimal combination. Random search is similar \n",
    "to grid search, but instead of testing all possible combinations, it randomly samples from a range\n",
    "of values for k and other hyperparameters.\n",
    "\n",
    "A3. The choice of distance metric can affect the performance of a KNN classifier or regressor, \n",
    "as different distance metrics can result in different nearest neighbors and therefore different\n",
    "predictions. The choice of distance metric depends on the nature of the data and the problem at hand\n",
    "For example, the Euclidean distance metric is more suitable for continuous data, while the \n",
    "Manhattan distance metric is more suitable for categorical data.\n",
    "\n",
    "A4. Some common hyperparameters in KNN classifiers and regressors include k \n",
    "(the number of nearest neighbors), the distance metric used to compute distances,\n",
    "and the weighting scheme used to combine the distances of the k nearest neighbors.\n",
    "The optimal hyperparameters can be determined using techniques such as cross-validation,\n",
    "grid search, or random search. The impact of these hyperparameters on model performance can\n",
    "vary depending on the dataset and problem at hand, so it is important to tune them carefully.\n",
    "\n",
    "A5. The size of the training set can affect the performance of a KNN classifier or regressor,\n",
    "as having too few training instances can result in a lack of representative instances and overfitting,\n",
    "while having too many instances can result in slower computation times and reduced generalization.\n",
    "Techniques such as cross-validation can be used to optimize the size of the training set by testing\n",
    "different sizes and evaluating performance.\n",
    "\n",
    "A6. Some potential drawbacks of using KNN as a classifier or regressor include its sensitivity to\n",
    "outliers, the curse of dimensionality, and its computational complexity. To overcome these drawbacks,\n",
    "techniques such as outlier detection and removal, feature selection, and efficient algorithms for \n",
    "computing distances can be used. Additionally, ensemble techniques such as bagging and boosting can \n",
    "be used to improve performance by combining multiple KNN models.\n"
   ]
  }
 ],
 "metadata": {
  "kernelspec": {
   "display_name": "Python 3 (ipykernel)",
   "language": "python",
   "name": "python3"
  },
  "language_info": {
   "codemirror_mode": {
    "name": "ipython",
    "version": 3
   },
   "file_extension": ".py",
   "mimetype": "text/x-python",
   "name": "python",
   "nbconvert_exporter": "python",
   "pygments_lexer": "ipython3",
   "version": "3.10.8"
  }
 },
 "nbformat": 4,
 "nbformat_minor": 5
}
