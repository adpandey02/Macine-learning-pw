{
 "cells": [
  {
   "cell_type": "code",
   "execution_count": null,
   "id": "ad843a11-b9a6-44ad-b16f-6feb4e9d4ebe",
   "metadata": {},
   "outputs": [],
   "source": [
    "Q1. An ensemble technique in machine learning involves combining multiple models to improve predictive\n",
    "performance or increase robustness.\n",
    "\n",
    "Q2. Ensemble techniques are used in machine learning because they can reduce the risk of overfitting\n",
    "and increase the stability of the model's predictions. They can also improve the accuracy of the model's \n",
    "predictions by combining the strengths of multiple models.\n",
    "\n",
    "Q3. Bagging (Bootstrap Aggregating) is a technique that involves training multiple models on random \n",
    "subsets of the training data, with replacement. The models are then combined using a simple averaging\n",
    "or voting scheme to make predictions.\n",
    "\n",
    "Q4. Boosting is a technique that involves training multiple models sequentially, \n",
    "with each subsequent model attempting to correct the errors of the previous model.\n",
    "The models are combined using a weighted sum or some other adaptive scheme to make predictions.\n",
    "\n",
    "Q5. The benefits of using ensemble techniques include improved predictive performance,\n",
    "increased robustness, and reduced risk of overfitting. Ensemble techniques can also handle noisy\n",
    "or incomplete data and improve the stability of the model's predictions.\n",
    "\n",
    "Q6. Ensemble techniques are not always better than individual models. The effectiveness of ensemble\n",
    "techniques depends on the quality of the individual models and the diversity of the ensemble.\n",
    "\n",
    "Q7. The confidence interval can be calculated using bootstrap by repeatedly sampling from the data \n",
    "and calculating the statistic of interest. The distribution of these statistics can be used to \n",
    "estimate the confidence interval.\n",
    "\n",
    "Q8. Bootstrap is a resampling technique that involves sampling from the data with replacement \n",
    "to generate new samples. The steps involved in bootstrap are:\n",
    "Draw a sample of size n with replacement from the original data.\n",
    "Calculate the statistic of interest on the bootstrap sample.\n",
    "Repeat steps 1 and 2 B times to generate B bootstrap samples.\n",
    "Calculate the empirical distribution of the statistic using the B bootstrap samples.\n",
    "Use the empirical distribution to estimate the confidence interval.\n",
    "\n",
    "Q9. SEM (ie. standard error of mean) = sqrt(variance of bootstrap sample means)\n",
    "= sqrt(variance of original sample / sample size)\n",
    "= sqrt(2^2 / 50)\n",
    "= 0.2828\n",
    "\n",
    "We calculate the lower and upper bounds of the confidence interval as follows:\n",
    "Lower bound = 15 - 1.96 x 0.2828 = 14.43\n",
    "Upper bound = 15 + 1.96 x 0.2828 = 15.57\n",
    "\n",
    "Therefore, the 95% confidence interval for the population mean height is estimated \n",
    "to be (14.43, 15.57) meters."
   ]
  }
 ],
 "metadata": {
  "kernelspec": {
   "display_name": "Python 3 (ipykernel)",
   "language": "python",
   "name": "python3"
  },
  "language_info": {
   "codemirror_mode": {
    "name": "ipython",
    "version": 3
   },
   "file_extension": ".py",
   "mimetype": "text/x-python",
   "name": "python",
   "nbconvert_exporter": "python",
   "pygments_lexer": "ipython3",
   "version": "3.10.8"
  }
 },
 "nbformat": 4,
 "nbformat_minor": 5
}
