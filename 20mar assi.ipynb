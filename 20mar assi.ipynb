{
 "cells": [
  {
   "cell_type": "code",
   "execution_count": null,
   "id": "5657c805-48df-41d8-b1f3-f6ede7e6eeae",
   "metadata": {},
   "outputs": [],
   "source": [
    "Q1. Data encoding is the process of converting data from one format to another format for \n",
    "efficient storage, transmission, and analysis. In data science, encoding is useful for handling \n",
    "categorical data, which cannot be directly used in machine learning algorithms. By converting \n",
    "categorical data into numerical data, encoding enables machine learning algorithms to process \n",
    "the data and make accurate predictions.\n",
    "\n",
    "Q2. Nominal encoding is a type of encoding used for categorical data where each category is \n",
    "assigned a unique numerical value. For example, suppose you have a dataset of different types\n",
    "of cars, and one of the features is the car's color. You could use nominal encoding to assign\n",
    "a unique number to each color category, such as 1 for red, 2 for blue, 3 for green, and so on.\n",
    "\n",
    "Q3. Nominal encoding is preferred over one-hot encoding when the number of unique categories in\n",
    "the dataset is relatively small, and there is no natural ordering between the categories.\n",
    "For example, if you have a dataset of different types of fruit, you could use nominal encoding\n",
    "to assign a unique number to each fruit category, such as 1 for apple, 2 for banana, 3 for orange, \n",
    "and so on. In this case, nominal encoding would be more efficient than one-hot encoding,\n",
    "which would create a separate column for each fruit category.\n",
    "\n",
    "Q4. If the dataset contains categorical data with 5 unique values, I would use nominal \n",
    "encoding to transform the data into a format suitable for machine learning algorithms. \n",
    "Nominal encoding would assign a unique numerical value to each category, enabling the machine learning\n",
    "algorithm to process the data and make accurate predictions.\n",
    "\n",
    "Q5. If two of the five columns in a dataset are categorical, and nominal encoding is used to \n",
    "transform the categorical data, the number of new columns created would be equal to the number\n",
    "of unique categories in the categorical columns. For example, if one categorical column has \n",
    "three unique categories, and the other has four unique categories, nominal encoding would create\n",
    "a total of seven new columns.\n",
    "\n",
    "Q6. The choice of encoding technique depends on the nature of the categorical data and the \n",
    "machine learning algorithm being used. In this case, I would use one-hot encoding to transform\n",
    "the categorical data into a format suitable for machine learning algorithms. One-hot encoding \n",
    "would create a separate column for each unique category, enabling the machine learning algorithm \n",
    "to process the data and make accurate predictions.\n",
    "\n",
    "Q7. To transform the categorical data into numerical data for predicting customer churn,\n",
    "we can use a combination of nominal encoding and one-hot encoding.\n",
    "Step-by-step implementation:\n",
    "Gender: This feature has only two unique values, male and female.\n",
    "We can use nominal encoding to convert this feature into a numerical feature by assigning 0 to\n",
    "male and 1 to female.\n",
    "Contract type: This feature has three unique values, month-to-month, one year, \n",
    "and two years. We can use one-hot encoding to convert this feature into three separate \n",
    "binary features, each representing one of the contract types.\n",
    "Monthly charges: This feature is already numerical and does not require any encoding.\n",
    "Tenure: This feature is also numerical and does not require any encoding.\n",
    "After encoding, the dataset will have six columns: gender (numerical),\n",
    "month-to-month (binary), one year (binary), two years (binary),\n",
    "monthly charges (numerical), and tenure (numerical)"
   ]
  }
 ],
 "metadata": {
  "kernelspec": {
   "display_name": "Python 3 (ipykernel)",
   "language": "python",
   "name": "python3"
  },
  "language_info": {
   "codemirror_mode": {
    "name": "ipython",
    "version": 3
   },
   "file_extension": ".py",
   "mimetype": "text/x-python",
   "name": "python",
   "nbconvert_exporter": "python",
   "pygments_lexer": "ipython3",
   "version": "3.10.8"
  }
 },
 "nbformat": 4,
 "nbformat_minor": 5
}
